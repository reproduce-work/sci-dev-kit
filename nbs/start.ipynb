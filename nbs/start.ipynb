{
 "cells": [
  {
   "cell_type": "code",
   "execution_count": 1,
   "metadata": {},
   "outputs": [
    {
     "name": "stdout",
     "output_type": "stream",
     "text": [
      "Setting reproduce.work config dir to ./reproduce\n",
      "[au]\n",
      "\"author1.name\" = \"Alex P. Miller\"\n",
      "\"author1.affiliation\" = \"USC Marshall School of Business\"\n",
      "\"author1.email\" = \"alex.miller@marshall.usc.edu\"\n",
      "\n",
      "[repro]\n",
      "version = \"reproduce.work/v1/default\"\n",
      "stages = [ \"init\", \"develop\", \"build\",]\n",
      "\n",
      "[\"repro.files\"]\n",
      "input = \"document/main.md\"\n",
      "dynamic = \"document/pubdata.toml\"\n",
      "latex_template = \"document/latex/template.tex\"\n",
      "output = \"document/latex/compiled.tex\"\n",
      "\n",
      "[\"repro.stage.init\"]\n",
      "script = \"docker build -t {dev_image_tag} .\\ndocker build -t tinytex {reproduce_dir}/Dockerfile.tinytex\\ndocker build -t watcher {reproduce_dir}/Dockerfile.watch\\n\"\n",
      "\n",
      "[\"repro.stage.develop\"]\n",
      "script = \"docker run -v $(pwd):/home/jovyan -p 8888:8888 {dev_image_tag} start.sh jupyter lab --LabApp.token=''\\n\\\\INSERT{watch_cmd_here}\\n\"\n",
      "\n",
      "[\"repro.stage.build\"]\n",
      "script = \"docker run --rm -i -v $(pwd):/home/jovyan -p 8888:8888 {dev_image_tag} python reproduce_work.build() # this replaces instances of \\\\INSERT{var} in `input` file\\ndocker run --rm -i -v $(pwd):/home lowdown # this converts the markdown to latex\\ndocker run --rm -i --net=none -v $(pwd):/home tinytex sh -c \\\"cd /home/document/latex && xelatex compiled.tex\\\" # this compiles the latex\\n\"\n",
      "\n",
      "Error: Missing required field 'authors' in config.toml\n",
      "All tests passed!\n",
      "Setting reproduce.work config dir to ./reproduce\n"
     ]
    }
   ],
   "source": [
    "import reproduce_work"
   ]
  },
  {
   "cell_type": "code",
   "execution_count": null,
   "metadata": {},
   "outputs": [],
   "source": []
  },
  {
   "cell_type": "code",
   "execution_count": null,
   "metadata": {},
   "outputs": [],
   "source": []
  }
 ],
 "metadata": {
  "kernelspec": {
   "display_name": "Python 3 (ipykernel)",
   "language": "python",
   "name": "python3"
  },
  "language_info": {
   "codemirror_mode": {
    "name": "ipython",
    "version": 3
   },
   "file_extension": ".py",
   "mimetype": "text/x-python",
   "name": "python",
   "nbconvert_exporter": "python",
   "pygments_lexer": "ipython3",
   "version": "3.9.13"
  }
 },
 "nbformat": 4,
 "nbformat_minor": 2
}
